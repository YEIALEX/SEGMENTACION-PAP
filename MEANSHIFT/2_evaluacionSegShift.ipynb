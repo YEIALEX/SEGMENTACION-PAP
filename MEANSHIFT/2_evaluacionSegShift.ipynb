{
 "cells": [
  {
   "attachments": {},
   "cell_type": "markdown",
   "metadata": {},
   "source": [
    "# IMPORTE DE LIBRERIAS NECESARIAS"
   ]
  },
  {
   "cell_type": "code",
   "execution_count": 1,
   "metadata": {},
   "outputs": [],
   "source": [
    "import pandas as pd\n",
    "import numpy as np\n",
    "import matplotlib as plt\n",
    "from matplotlib import pyplot as plt\n",
    "import seaborn as sns"
   ]
  },
  {
   "attachments": {},
   "cell_type": "markdown",
   "metadata": {},
   "source": [
    "# Lectura de los datos de evaluación"
   ]
  },
  {
   "cell_type": "code",
   "execution_count": 2,
   "metadata": {},
   "outputs": [
    {
     "data": {
      "text/html": [
       "<div>\n",
       "<style scoped>\n",
       "    .dataframe tbody tr th:only-of-type {\n",
       "        vertical-align: middle;\n",
       "    }\n",
       "\n",
       "    .dataframe tbody tr th {\n",
       "        vertical-align: top;\n",
       "    }\n",
       "\n",
       "    .dataframe thead th {\n",
       "        text-align: right;\n",
       "    }\n",
       "</style>\n",
       "<table border=\"1\" class=\"dataframe\">\n",
       "  <thead>\n",
       "    <tr style=\"text-align: right;\">\n",
       "      <th></th>\n",
       "      <th>CLASE</th>\n",
       "      <th>CELULA</th>\n",
       "      <th>FN</th>\n",
       "      <th>FP</th>\n",
       "      <th>VP</th>\n",
       "      <th>VN</th>\n",
       "      <th>P</th>\n",
       "      <th>R</th>\n",
       "      <th>E</th>\n",
       "      <th>NSR</th>\n",
       "      <th>FM</th>\n",
       "      <th>ER</th>\n",
       "      <th>NRM</th>\n",
       "      <th>JACC</th>\n",
       "      <th>DICE</th>\n",
       "    </tr>\n",
       "  </thead>\n",
       "  <tbody>\n",
       "    <tr>\n",
       "      <th>0</th>\n",
       "      <td>1</td>\n",
       "      <td>normalSup1.jpg</td>\n",
       "      <td>250</td>\n",
       "      <td>0</td>\n",
       "      <td>549</td>\n",
       "      <td>43427</td>\n",
       "      <td>1.000000</td>\n",
       "      <td>0.687109</td>\n",
       "      <td>0.994347</td>\n",
       "      <td>0.000000</td>\n",
       "      <td>0.814540</td>\n",
       "      <td>0.000000</td>\n",
       "      <td>0.156446</td>\n",
       "      <td>0.687109</td>\n",
       "      <td>0.814540</td>\n",
       "    </tr>\n",
       "    <tr>\n",
       "      <th>1</th>\n",
       "      <td>1</td>\n",
       "      <td>normalSup10.jpg</td>\n",
       "      <td>246</td>\n",
       "      <td>0</td>\n",
       "      <td>396</td>\n",
       "      <td>107114</td>\n",
       "      <td>1.000000</td>\n",
       "      <td>0.616822</td>\n",
       "      <td>0.997717</td>\n",
       "      <td>0.000000</td>\n",
       "      <td>0.763006</td>\n",
       "      <td>0.000000</td>\n",
       "      <td>0.191589</td>\n",
       "      <td>0.616822</td>\n",
       "      <td>0.763006</td>\n",
       "    </tr>\n",
       "    <tr>\n",
       "      <th>2</th>\n",
       "      <td>1</td>\n",
       "      <td>normalSup11.jpg</td>\n",
       "      <td>270</td>\n",
       "      <td>0</td>\n",
       "      <td>430</td>\n",
       "      <td>85430</td>\n",
       "      <td>1.000000</td>\n",
       "      <td>0.614286</td>\n",
       "      <td>0.996865</td>\n",
       "      <td>0.000000</td>\n",
       "      <td>0.761062</td>\n",
       "      <td>0.000000</td>\n",
       "      <td>0.192857</td>\n",
       "      <td>0.614286</td>\n",
       "      <td>0.761062</td>\n",
       "    </tr>\n",
       "    <tr>\n",
       "      <th>3</th>\n",
       "      <td>1</td>\n",
       "      <td>normalSup12.jpg</td>\n",
       "      <td>157</td>\n",
       "      <td>2</td>\n",
       "      <td>547</td>\n",
       "      <td>72122</td>\n",
       "      <td>0.996357</td>\n",
       "      <td>0.776989</td>\n",
       "      <td>0.997817</td>\n",
       "      <td>0.003656</td>\n",
       "      <td>0.873105</td>\n",
       "      <td>0.002841</td>\n",
       "      <td>0.112926</td>\n",
       "      <td>0.774788</td>\n",
       "      <td>0.873105</td>\n",
       "    </tr>\n",
       "    <tr>\n",
       "      <th>4</th>\n",
       "      <td>1</td>\n",
       "      <td>normalSup13.jpg</td>\n",
       "      <td>351</td>\n",
       "      <td>0</td>\n",
       "      <td>265</td>\n",
       "      <td>46340</td>\n",
       "      <td>1.000000</td>\n",
       "      <td>0.430195</td>\n",
       "      <td>0.992525</td>\n",
       "      <td>0.000000</td>\n",
       "      <td>0.601589</td>\n",
       "      <td>0.000000</td>\n",
       "      <td>0.284903</td>\n",
       "      <td>0.430195</td>\n",
       "      <td>0.601589</td>\n",
       "    </tr>\n",
       "  </tbody>\n",
       "</table>\n",
       "</div>"
      ],
      "text/plain": [
       "   CLASE           CELULA   FN  FP   VP      VN         P         R         E  \\\n",
       "0      1   normalSup1.jpg  250   0  549   43427  1.000000  0.687109  0.994347   \n",
       "1      1  normalSup10.jpg  246   0  396  107114  1.000000  0.616822  0.997717   \n",
       "2      1  normalSup11.jpg  270   0  430   85430  1.000000  0.614286  0.996865   \n",
       "3      1  normalSup12.jpg  157   2  547   72122  0.996357  0.776989  0.997817   \n",
       "4      1  normalSup13.jpg  351   0  265   46340  1.000000  0.430195  0.992525   \n",
       "\n",
       "        NSR        FM        ER       NRM      JACC      DICE  \n",
       "0  0.000000  0.814540  0.000000  0.156446  0.687109  0.814540  \n",
       "1  0.000000  0.763006  0.000000  0.191589  0.616822  0.763006  \n",
       "2  0.000000  0.761062  0.000000  0.192857  0.614286  0.761062  \n",
       "3  0.003656  0.873105  0.002841  0.112926  0.774788  0.873105  \n",
       "4  0.000000  0.601589  0.000000  0.284903  0.430195  0.601589  "
      ]
     },
     "execution_count": 2,
     "metadata": {},
     "output_type": "execute_result"
    }
   ],
   "source": [
    "datos  = pd.read_csv('evalNucleoMeanShift.csv',sep=';',index_col=0)\n",
    "datos.head()"
   ]
  },
  {
   "attachments": {},
   "cell_type": "markdown",
   "metadata": {},
   "source": [
    "# DESCRIPCION GENERAL"
   ]
  },
  {
   "cell_type": "code",
   "execution_count": 3,
   "metadata": {},
   "outputs": [
    {
     "data": {
      "text/html": [
       "<div>\n",
       "<style scoped>\n",
       "    .dataframe tbody tr th:only-of-type {\n",
       "        vertical-align: middle;\n",
       "    }\n",
       "\n",
       "    .dataframe tbody tr th {\n",
       "        vertical-align: top;\n",
       "    }\n",
       "\n",
       "    .dataframe thead th {\n",
       "        text-align: right;\n",
       "    }\n",
       "</style>\n",
       "<table border=\"1\" class=\"dataframe\">\n",
       "  <thead>\n",
       "    <tr style=\"text-align: right;\">\n",
       "      <th></th>\n",
       "      <th>CLASE</th>\n",
       "      <th>FN</th>\n",
       "      <th>FP</th>\n",
       "      <th>VP</th>\n",
       "      <th>VN</th>\n",
       "      <th>P</th>\n",
       "      <th>R</th>\n",
       "      <th>E</th>\n",
       "      <th>NSR</th>\n",
       "      <th>FM</th>\n",
       "      <th>ER</th>\n",
       "      <th>NRM</th>\n",
       "      <th>JACC</th>\n",
       "      <th>DICE</th>\n",
       "    </tr>\n",
       "  </thead>\n",
       "  <tbody>\n",
       "    <tr>\n",
       "      <th>count</th>\n",
       "      <td>917.000000</td>\n",
       "      <td>917.000000</td>\n",
       "      <td>917.000000</td>\n",
       "      <td>917.000000</td>\n",
       "      <td>917.000000</td>\n",
       "      <td>917.000000</td>\n",
       "      <td>917.000000</td>\n",
       "      <td>917.000000</td>\n",
       "      <td>849.000000</td>\n",
       "      <td>849.000000</td>\n",
       "      <td>917.000000</td>\n",
       "      <td>917.000000</td>\n",
       "      <td>917.000000</td>\n",
       "      <td>917.000000</td>\n",
       "    </tr>\n",
       "    <tr>\n",
       "      <th>mean</th>\n",
       "      <td>4.577972</td>\n",
       "      <td>832.351145</td>\n",
       "      <td>503.960742</td>\n",
       "      <td>2148.970556</td>\n",
       "      <td>24368.075245</td>\n",
       "      <td>0.828391</td>\n",
       "      <td>0.736719</td>\n",
       "      <td>0.900110</td>\n",
       "      <td>0.748082</td>\n",
       "      <td>0.812345</td>\n",
       "      <td>0.267900</td>\n",
       "      <td>0.265590</td>\n",
       "      <td>0.657124</td>\n",
       "      <td>0.752106</td>\n",
       "    </tr>\n",
       "    <tr>\n",
       "      <th>std</th>\n",
       "      <td>1.816252</td>\n",
       "      <td>1359.800607</td>\n",
       "      <td>1607.447754</td>\n",
       "      <td>1680.876468</td>\n",
       "      <td>35030.800603</td>\n",
       "      <td>0.292908</td>\n",
       "      <td>0.272678</td>\n",
       "      <td>0.115785</td>\n",
       "      <td>12.843344</td>\n",
       "      <td>0.163454</td>\n",
       "      <td>1.783042</td>\n",
       "      <td>0.890158</td>\n",
       "      <td>0.261725</td>\n",
       "      <td>0.264745</td>\n",
       "    </tr>\n",
       "    <tr>\n",
       "      <th>min</th>\n",
       "      <td>1.000000</td>\n",
       "      <td>0.000000</td>\n",
       "      <td>0.000000</td>\n",
       "      <td>0.000000</td>\n",
       "      <td>429.000000</td>\n",
       "      <td>0.000000</td>\n",
       "      <td>0.000000</td>\n",
       "      <td>0.248762</td>\n",
       "      <td>0.000000</td>\n",
       "      <td>0.000912</td>\n",
       "      <td>0.000000</td>\n",
       "      <td>0.017373</td>\n",
       "      <td>0.000000</td>\n",
       "      <td>0.000000</td>\n",
       "    </tr>\n",
       "    <tr>\n",
       "      <th>25%</th>\n",
       "      <td>3.000000</td>\n",
       "      <td>169.000000</td>\n",
       "      <td>0.000000</td>\n",
       "      <td>959.000000</td>\n",
       "      <td>4441.000000</td>\n",
       "      <td>0.816647</td>\n",
       "      <td>0.657955</td>\n",
       "      <td>0.858804</td>\n",
       "      <td>0.000000</td>\n",
       "      <td>0.757897</td>\n",
       "      <td>0.000000</td>\n",
       "      <td>0.077280</td>\n",
       "      <td>0.566697</td>\n",
       "      <td>0.723429</td>\n",
       "    </tr>\n",
       "    <tr>\n",
       "      <th>50%</th>\n",
       "      <td>5.000000</td>\n",
       "      <td>336.000000</td>\n",
       "      <td>44.000000</td>\n",
       "      <td>1840.000000</td>\n",
       "      <td>9158.000000</td>\n",
       "      <td>0.980046</td>\n",
       "      <td>0.827856</td>\n",
       "      <td>0.942931</td>\n",
       "      <td>0.014734</td>\n",
       "      <td>0.857785</td>\n",
       "      <td>0.016310</td>\n",
       "      <td>0.144551</td>\n",
       "      <td>0.730076</td>\n",
       "      <td>0.843982</td>\n",
       "    </tr>\n",
       "    <tr>\n",
       "      <th>75%</th>\n",
       "      <td>6.000000</td>\n",
       "      <td>815.000000</td>\n",
       "      <td>372.000000</td>\n",
       "      <td>3020.000000</td>\n",
       "      <td>26683.000000</td>\n",
       "      <td>1.000000</td>\n",
       "      <td>0.928099</td>\n",
       "      <td>0.979551</td>\n",
       "      <td>0.146970</td>\n",
       "      <td>0.924937</td>\n",
       "      <td>0.128840</td>\n",
       "      <td>0.261857</td>\n",
       "      <td>0.850236</td>\n",
       "      <td>0.919057</td>\n",
       "    </tr>\n",
       "    <tr>\n",
       "      <th>max</th>\n",
       "      <td>7.000000</td>\n",
       "      <td>9586.000000</td>\n",
       "      <td>27577.000000</td>\n",
       "      <td>10053.000000</td>\n",
       "      <td>229608.000000</td>\n",
       "      <td>1.000000</td>\n",
       "      <td>1.000000</td>\n",
       "      <td>0.999642</td>\n",
       "      <td>370.222222</td>\n",
       "      <td>0.982420</td>\n",
       "      <td>39.503984</td>\n",
       "      <td>19.751992</td>\n",
       "      <td>0.965448</td>\n",
       "      <td>0.982420</td>\n",
       "    </tr>\n",
       "  </tbody>\n",
       "</table>\n",
       "</div>"
      ],
      "text/plain": [
       "            CLASE           FN            FP            VP             VN  \\\n",
       "count  917.000000   917.000000    917.000000    917.000000     917.000000   \n",
       "mean     4.577972   832.351145    503.960742   2148.970556   24368.075245   \n",
       "std      1.816252  1359.800607   1607.447754   1680.876468   35030.800603   \n",
       "min      1.000000     0.000000      0.000000      0.000000     429.000000   \n",
       "25%      3.000000   169.000000      0.000000    959.000000    4441.000000   \n",
       "50%      5.000000   336.000000     44.000000   1840.000000    9158.000000   \n",
       "75%      6.000000   815.000000    372.000000   3020.000000   26683.000000   \n",
       "max      7.000000  9586.000000  27577.000000  10053.000000  229608.000000   \n",
       "\n",
       "                P           R           E         NSR          FM          ER  \\\n",
       "count  917.000000  917.000000  917.000000  849.000000  849.000000  917.000000   \n",
       "mean     0.828391    0.736719    0.900110    0.748082    0.812345    0.267900   \n",
       "std      0.292908    0.272678    0.115785   12.843344    0.163454    1.783042   \n",
       "min      0.000000    0.000000    0.248762    0.000000    0.000912    0.000000   \n",
       "25%      0.816647    0.657955    0.858804    0.000000    0.757897    0.000000   \n",
       "50%      0.980046    0.827856    0.942931    0.014734    0.857785    0.016310   \n",
       "75%      1.000000    0.928099    0.979551    0.146970    0.924937    0.128840   \n",
       "max      1.000000    1.000000    0.999642  370.222222    0.982420   39.503984   \n",
       "\n",
       "              NRM        JACC        DICE  \n",
       "count  917.000000  917.000000  917.000000  \n",
       "mean     0.265590    0.657124    0.752106  \n",
       "std      0.890158    0.261725    0.264745  \n",
       "min      0.017373    0.000000    0.000000  \n",
       "25%      0.077280    0.566697    0.723429  \n",
       "50%      0.144551    0.730076    0.843982  \n",
       "75%      0.261857    0.850236    0.919057  \n",
       "max     19.751992    0.965448    0.982420  "
      ]
     },
     "execution_count": 3,
     "metadata": {},
     "output_type": "execute_result"
    }
   ],
   "source": [
    "datos.describe()"
   ]
  },
  {
   "attachments": {},
   "cell_type": "markdown",
   "metadata": {},
   "source": [
    "# Etiquetado de cada célula según las distintas nomeclaturas"
   ]
  },
  {
   "cell_type": "code",
   "execution_count": 4,
   "metadata": {},
   "outputs": [],
   "source": [
    "#2 Clases(normal,Anormal)\n",
    "binario = []\n",
    "for ind, ele in enumerate(datos['CLASE']):\n",
    "    if ele == 1 or ele == 2 or ele == 3:\n",
    "        binario.append('1_NORMAL')\n",
    "    if ele == 4 or ele == 5 or ele == 6 or ele == 7:\n",
    "        binario.append('2_ANORMAL')\n",
    "datos['BIN'] = binario\n",
    "\n",
    "# tres clases,  Corriente citologíca\n",
    "#normal, lsil,hsil\n",
    "cytology = []\n",
    "for ind, ele in enumerate(datos['CLASE']):\n",
    "    if ele == 1 or ele == 2 or ele == 3:\n",
    "         cytology.append('1_NORMAL')\n",
    "    if ele == 4:\n",
    "        cytology.append('2_LSIL')\n",
    "    if ele == 5 or ele == 6 or ele == 7:\n",
    "        cytology.append('3_HSIL')\n",
    "datos['CYT'] = cytology\n",
    "\n",
    "\n",
    "# cuatro  clases, corriente Histológica\n",
    "#normal, CIN1,CIN2,CIN3\n",
    "cytology = []\n",
    "for ind, ele in enumerate(datos['CLASE']):\n",
    "    if ele == 1 or ele == 2 or ele == 3:\n",
    "         cytology.append('1_NORMAL')\n",
    "    if ele == 4:\n",
    "        cytology.append('2_CIN1')\n",
    "    if ele == 5:\n",
    "        cytology.append('3_CIN2')\n",
    "    if ele == 6 or ele == 7:\n",
    "        cytology.append('4_CIN3')\n",
    "datos['HIST'] = cytology"
   ]
  },
  {
   "cell_type": "code",
   "execution_count": 8,
   "metadata": {},
   "outputs": [
    {
     "name": "stdout",
     "output_type": "stream",
     "text": [
      "0.899\n"
     ]
    }
   ],
   "source": [
    "puntaje = datos[datos['CLASE'] == 1]\n",
    "puntaje = puntaje['P'].mean()\n",
    "print(np.round(puntaje,decimals=3))"
   ]
  },
  {
   "cell_type": "code",
   "execution_count": 10,
   "metadata": {},
   "outputs": [
    {
     "name": "stdout",
     "output_type": "stream",
     "text": [
      "0.828\n"
     ]
    }
   ],
   "source": [
    "puntaje = datos['P'].mean()\n",
    "print(np.round(puntaje,decimals=3))"
   ]
  },
  {
   "attachments": {},
   "cell_type": "markdown",
   "metadata": {},
   "source": [
    "# ANALISIS DE TENDENCIA CENTRAL"
   ]
  },
  {
   "cell_type": "code",
   "execution_count": 5,
   "metadata": {},
   "outputs": [
    {
     "data": {
      "text/plain": [
       "(0.0, 1.0)"
      ]
     },
     "execution_count": 5,
     "metadata": {},
     "output_type": "execute_result"
    },
    {
     "data": {
      "image/png": "[encoded data removed]",
      "text/plain": [
       "<Figure size 686x294 with 1 Axes>"
      ]
     },
     "metadata": {},
     "output_type": "display_data"
    }
   ],
   "source": [
    "plt.figure(figsize=(7,3),dpi=98)\n",
    "sns.set(style='whitegrid')\n",
    "sns.boxplot(x=\"CLASE\",y=\"DICE\",data=datos)\n",
    "plt.title('DIAGRAMA DE CAJAS')\n",
    "plt.ylim((0,1))"
   ]
  },
  {
   "cell_type": "code",
   "execution_count": 6,
   "metadata": {},
   "outputs": [
    {
     "data": {
      "text/plain": [
       "(0.0, 1.0)"
      ]
     },
     "execution_count": 6,
     "metadata": {},
     "output_type": "execute_result"
    },
    {
     "data": {
      "image/png": "[encoded data removed]",
      "text/plain": [
       "<Figure size 686x294 with 1 Axes>"
      ]
     },
     "metadata": {},
     "output_type": "display_data"
    }
   ],
   "source": [
    "plt.figure(figsize=(7,3),dpi=98)\n",
    "sns.set(style='whitegrid')\n",
    "sns.boxplot(x=\"BIN\",y=\"E\",data=datos)\n",
    "plt.title('DIAGRAMA DE CAJAS')\n",
    "plt.ylim((0,1))"
   ]
  }
 ],
 "metadata": {
  "kernelspec": {
   "display_name": "Python 3",
   "language": "python",
   "name": "python3"
  },
  "language_info": {
   "codemirror_mode": {
    "name": "ipython",
    "version": 3
   },
   "file_extension": ".py",
   "mimetype": "text/x-python",
   "name": "python",
   "nbconvert_exporter": "python",
   "pygments_lexer": "ipython3",
   "version": "3.10.4"
  },
  "orig_nbformat": 4,
  "vscode": {
   "interpreter": {
    "hash": "26de051ba29f2982a8de78e945f0abaf191376122a1563185a90213a26c5da77"
   }
  }
 },
 "nbformat": 4,
 "nbformat_minor": 2
}
