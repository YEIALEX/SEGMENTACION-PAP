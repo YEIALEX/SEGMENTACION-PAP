{
 "cells": [
  {
   "attachments": {},
   "cell_type": "markdown",
   "metadata": {},
   "source": [
    "# IMPORTE DE LIBRERIAS NECESARIAS"
   ]
  },
  {
   "cell_type": "code",
   "execution_count": 1,
   "metadata": {},
   "outputs": [],
   "source": [
    "import pandas as pd\n",
    "import numpy as np\n",
    "import matplotlib as plt\n",
    "from matplotlib import pyplot as plt\n",
    "import seaborn as sns"
   ]
  },
  {
   "attachments": {},
   "cell_type": "markdown",
   "metadata": {},
   "source": [
    "# Lectura de los datos de evaluación"
   ]
  },
  {
   "cell_type": "code",
   "execution_count": 2,
   "metadata": {},
   "outputs": [
    {
     "data": {
      "text/html": [
       "<div>\n",
       "<style scoped>\n",
       "    .dataframe tbody tr th:only-of-type {\n",
       "        vertical-align: middle;\n",
       "    }\n",
       "\n",
       "    .dataframe tbody tr th {\n",
       "        vertical-align: top;\n",
       "    }\n",
       "\n",
       "    .dataframe thead th {\n",
       "        text-align: right;\n",
       "    }\n",
       "</style>\n",
       "<table border=\"1\" class=\"dataframe\">\n",
       "  <thead>\n",
       "    <tr style=\"text-align: right;\">\n",
       "      <th></th>\n",
       "      <th>CLASE</th>\n",
       "      <th>CELULA</th>\n",
       "      <th>FN</th>\n",
       "      <th>FP</th>\n",
       "      <th>VP</th>\n",
       "      <th>VN</th>\n",
       "      <th>P</th>\n",
       "      <th>R</th>\n",
       "      <th>E</th>\n",
       "      <th>NSR</th>\n",
       "      <th>FM</th>\n",
       "      <th>ER</th>\n",
       "      <th>NRM</th>\n",
       "      <th>JACC</th>\n",
       "      <th>DICE</th>\n",
       "    </tr>\n",
       "  </thead>\n",
       "  <tbody>\n",
       "    <tr>\n",
       "      <th>0</th>\n",
       "      <td>1</td>\n",
       "      <td>normalSup1.jpg</td>\n",
       "      <td>250</td>\n",
       "      <td>0</td>\n",
       "      <td>549</td>\n",
       "      <td>43427</td>\n",
       "      <td>1.000000</td>\n",
       "      <td>0.687109</td>\n",
       "      <td>0.994347</td>\n",
       "      <td>0.000000</td>\n",
       "      <td>0.814540</td>\n",
       "      <td>0.000000</td>\n",
       "      <td>0.156446</td>\n",
       "      <td>0.687109</td>\n",
       "      <td>0.814540</td>\n",
       "    </tr>\n",
       "    <tr>\n",
       "      <th>1</th>\n",
       "      <td>1</td>\n",
       "      <td>normalSup10.jpg</td>\n",
       "      <td>246</td>\n",
       "      <td>0</td>\n",
       "      <td>396</td>\n",
       "      <td>107114</td>\n",
       "      <td>1.000000</td>\n",
       "      <td>0.616822</td>\n",
       "      <td>0.997717</td>\n",
       "      <td>0.000000</td>\n",
       "      <td>0.763006</td>\n",
       "      <td>0.000000</td>\n",
       "      <td>0.191589</td>\n",
       "      <td>0.616822</td>\n",
       "      <td>0.763006</td>\n",
       "    </tr>\n",
       "    <tr>\n",
       "      <th>2</th>\n",
       "      <td>1</td>\n",
       "      <td>normalSup11.jpg</td>\n",
       "      <td>270</td>\n",
       "      <td>0</td>\n",
       "      <td>430</td>\n",
       "      <td>85430</td>\n",
       "      <td>1.000000</td>\n",
       "      <td>0.614286</td>\n",
       "      <td>0.996865</td>\n",
       "      <td>0.000000</td>\n",
       "      <td>0.761062</td>\n",
       "      <td>0.000000</td>\n",
       "      <td>0.192857</td>\n",
       "      <td>0.614286</td>\n",
       "      <td>0.761062</td>\n",
       "    </tr>\n",
       "    <tr>\n",
       "      <th>3</th>\n",
       "      <td>1</td>\n",
       "      <td>normalSup12.jpg</td>\n",
       "      <td>157</td>\n",
       "      <td>2</td>\n",
       "      <td>547</td>\n",
       "      <td>72122</td>\n",
       "      <td>0.996357</td>\n",
       "      <td>0.776989</td>\n",
       "      <td>0.997817</td>\n",
       "      <td>0.003656</td>\n",
       "      <td>0.873105</td>\n",
       "      <td>0.002841</td>\n",
       "      <td>0.112926</td>\n",
       "      <td>0.774788</td>\n",
       "      <td>0.873105</td>\n",
       "    </tr>\n",
       "    <tr>\n",
       "      <th>4</th>\n",
       "      <td>1</td>\n",
       "      <td>normalSup13.jpg</td>\n",
       "      <td>351</td>\n",
       "      <td>0</td>\n",
       "      <td>265</td>\n",
       "      <td>46340</td>\n",
       "      <td>1.000000</td>\n",
       "      <td>0.430195</td>\n",
       "      <td>0.992525</td>\n",
       "      <td>0.000000</td>\n",
       "      <td>0.601589</td>\n",
       "      <td>0.000000</td>\n",
       "      <td>0.284903</td>\n",
       "      <td>0.430195</td>\n",
       "      <td>0.601589</td>\n",
       "    </tr>\n",
       "  </tbody>\n",
       "</table>\n",
       "</div>"
      ],
      "text/plain": [
       "   CLASE           CELULA   FN  FP   VP      VN         P         R         E  \\\n",
       "0      1   normalSup1.jpg  250   0  549   43427  1.000000  0.687109  0.994347   \n",
       "1      1  normalSup10.jpg  246   0  396  107114  1.000000  0.616822  0.997717   \n",
       "2      1  normalSup11.jpg  270   0  430   85430  1.000000  0.614286  0.996865   \n",
       "3      1  normalSup12.jpg  157   2  547   72122  0.996357  0.776989  0.997817   \n",
       "4      1  normalSup13.jpg  351   0  265   46340  1.000000  0.430195  0.992525   \n",
       "\n",
       "        NSR        FM        ER       NRM      JACC      DICE  \n",
       "0  0.000000  0.814540  0.000000  0.156446  0.687109  0.814540  \n",
       "1  0.000000  0.763006  0.000000  0.191589  0.616822  0.763006  \n",
       "2  0.000000  0.761062  0.000000  0.192857  0.614286  0.761062  \n",
       "3  0.003656  0.873105  0.002841  0.112926  0.774788  0.873105  \n",
       "4  0.000000  0.601589  0.000000  0.284903  0.430195  0.601589  "
      ]
     },
     "execution_count": 2,
     "metadata": {},
     "output_type": "execute_result"
    }
   ],
   "source": [
    "datos  = pd.read_csv('evalNucleoKmean2.csv',sep=';',index_col=0)\n",
    "datos.head()"
   ]
  },
  {
   "attachments": {},
   "cell_type": "markdown",
   "metadata": {},
   "source": [
    "# DESCRIPCION GENERAL"
   ]
  },
  {
   "cell_type": "code",
   "execution_count": 3,
   "metadata": {},
   "outputs": [
    {
     "data": {
      "text/html": [
       "<div>\n",
       "<style scoped>\n",
       "    .dataframe tbody tr th:only-of-type {\n",
       "        vertical-align: middle;\n",
       "    }\n",
       "\n",
       "    .dataframe tbody tr th {\n",
       "        vertical-align: top;\n",
       "    }\n",
       "\n",
       "    .dataframe thead th {\n",
       "        text-align: right;\n",
       "    }\n",
       "</style>\n",
       "<table border=\"1\" class=\"dataframe\">\n",
       "  <thead>\n",
       "    <tr style=\"text-align: right;\">\n",
       "      <th></th>\n",
       "      <th>CLASE</th>\n",
       "      <th>FN</th>\n",
       "      <th>FP</th>\n",
       "      <th>VP</th>\n",
       "      <th>VN</th>\n",
       "      <th>P</th>\n",
       "      <th>R</th>\n",
       "      <th>E</th>\n",
       "      <th>NSR</th>\n",
       "      <th>FM</th>\n",
       "      <th>ER</th>\n",
       "      <th>NRM</th>\n",
       "      <th>JACC</th>\n",
       "      <th>DICE</th>\n",
       "    </tr>\n",
       "  </thead>\n",
       "  <tbody>\n",
       "    <tr>\n",
       "      <th>count</th>\n",
       "      <td>917.000000</td>\n",
       "      <td>917.000000</td>\n",
       "      <td>917.000000</td>\n",
       "      <td>917.000000</td>\n",
       "      <td>917.000000</td>\n",
       "      <td>917.000000</td>\n",
       "      <td>917.000000</td>\n",
       "      <td>917.000000</td>\n",
       "      <td>870.000000</td>\n",
       "      <td>870.000000</td>\n",
       "      <td>917.000000</td>\n",
       "      <td>917.000000</td>\n",
       "      <td>917.000000</td>\n",
       "      <td>917.000000</td>\n",
       "    </tr>\n",
       "    <tr>\n",
       "      <th>mean</th>\n",
       "      <td>4.577972</td>\n",
       "      <td>1090.451472</td>\n",
       "      <td>291.509269</td>\n",
       "      <td>1890.870229</td>\n",
       "      <td>24580.526718</td>\n",
       "      <td>0.889910</td>\n",
       "      <td>0.655778</td>\n",
       "      <td>0.896926</td>\n",
       "      <td>0.289526</td>\n",
       "      <td>0.769339</td>\n",
       "      <td>0.273192</td>\n",
       "      <td>0.308707</td>\n",
       "      <td>0.616618</td>\n",
       "      <td>0.729908</td>\n",
       "    </tr>\n",
       "    <tr>\n",
       "      <th>std</th>\n",
       "      <td>1.816252</td>\n",
       "      <td>1276.584119</td>\n",
       "      <td>2268.151310</td>\n",
       "      <td>1470.157814</td>\n",
       "      <td>34662.896302</td>\n",
       "      <td>0.245834</td>\n",
       "      <td>0.246879</td>\n",
       "      <td>0.101451</td>\n",
       "      <td>4.200207</td>\n",
       "      <td>0.161841</td>\n",
       "      <td>4.089926</td>\n",
       "      <td>2.041735</td>\n",
       "      <td>0.235651</td>\n",
       "      <td>0.231649</td>\n",
       "    </tr>\n",
       "    <tr>\n",
       "      <th>min</th>\n",
       "      <td>1.000000</td>\n",
       "      <td>0.000000</td>\n",
       "      <td>0.000000</td>\n",
       "      <td>0.000000</td>\n",
       "      <td>654.000000</td>\n",
       "      <td>0.000000</td>\n",
       "      <td>0.000000</td>\n",
       "      <td>0.375137</td>\n",
       "      <td>0.000000</td>\n",
       "      <td>0.017447</td>\n",
       "      <td>0.000000</td>\n",
       "      <td>0.016793</td>\n",
       "      <td>0.000000</td>\n",
       "      <td>0.000000</td>\n",
       "    </tr>\n",
       "    <tr>\n",
       "      <th>25%</th>\n",
       "      <td>3.000000</td>\n",
       "      <td>263.000000</td>\n",
       "      <td>0.000000</td>\n",
       "      <td>917.000000</td>\n",
       "      <td>4848.000000</td>\n",
       "      <td>0.936670</td>\n",
       "      <td>0.528522</td>\n",
       "      <td>0.851371</td>\n",
       "      <td>0.000000</td>\n",
       "      <td>0.692135</td>\n",
       "      <td>0.000000</td>\n",
       "      <td>0.101162</td>\n",
       "      <td>0.496051</td>\n",
       "      <td>0.663147</td>\n",
       "    </tr>\n",
       "    <tr>\n",
       "      <th>50%</th>\n",
       "      <td>5.000000</td>\n",
       "      <td>650.000000</td>\n",
       "      <td>4.000000</td>\n",
       "      <td>1559.000000</td>\n",
       "      <td>9743.000000</td>\n",
       "      <td>0.998032</td>\n",
       "      <td>0.694740</td>\n",
       "      <td>0.923433</td>\n",
       "      <td>0.001324</td>\n",
       "      <td>0.795315</td>\n",
       "      <td>0.001555</td>\n",
       "      <td>0.186433</td>\n",
       "      <td>0.646806</td>\n",
       "      <td>0.785528</td>\n",
       "    </tr>\n",
       "    <tr>\n",
       "      <th>75%</th>\n",
       "      <td>6.000000</td>\n",
       "      <td>1408.000000</td>\n",
       "      <td>138.000000</td>\n",
       "      <td>2505.000000</td>\n",
       "      <td>27411.000000</td>\n",
       "      <td>1.000000</td>\n",
       "      <td>0.855057</td>\n",
       "      <td>0.974723</td>\n",
       "      <td>0.036396</td>\n",
       "      <td>0.895478</td>\n",
       "      <td>0.051271</td>\n",
       "      <td>0.269318</td>\n",
       "      <td>0.800927</td>\n",
       "      <td>0.889461</td>\n",
       "    </tr>\n",
       "    <tr>\n",
       "      <th>max</th>\n",
       "      <td>7.000000</td>\n",
       "      <td>9585.000000</td>\n",
       "      <td>64765.000000</td>\n",
       "      <td>10139.000000</td>\n",
       "      <td>229608.000000</td>\n",
       "      <td>1.000000</td>\n",
       "      <td>1.000000</td>\n",
       "      <td>0.999642</td>\n",
       "      <td>112.634783</td>\n",
       "      <td>0.983064</td>\n",
       "      <td>112.634783</td>\n",
       "      <td>56.317391</td>\n",
       "      <td>0.966693</td>\n",
       "      <td>0.983064</td>\n",
       "    </tr>\n",
       "  </tbody>\n",
       "</table>\n",
       "</div>"
      ],
      "text/plain": [
       "            CLASE           FN            FP            VP             VN  \\\n",
       "count  917.000000   917.000000    917.000000    917.000000     917.000000   \n",
       "mean     4.577972  1090.451472    291.509269   1890.870229   24580.526718   \n",
       "std      1.816252  1276.584119   2268.151310   1470.157814   34662.896302   \n",
       "min      1.000000     0.000000      0.000000      0.000000     654.000000   \n",
       "25%      3.000000   263.000000      0.000000    917.000000    4848.000000   \n",
       "50%      5.000000   650.000000      4.000000   1559.000000    9743.000000   \n",
       "75%      6.000000  1408.000000    138.000000   2505.000000   27411.000000   \n",
       "max      7.000000  9585.000000  64765.000000  10139.000000  229608.000000   \n",
       "\n",
       "                P           R           E         NSR          FM          ER  \\\n",
       "count  917.000000  917.000000  917.000000  870.000000  870.000000  917.000000   \n",
       "mean     0.889910    0.655778    0.896926    0.289526    0.769339    0.273192   \n",
       "std      0.245834    0.246879    0.101451    4.200207    0.161841    4.089926   \n",
       "min      0.000000    0.000000    0.375137    0.000000    0.017447    0.000000   \n",
       "25%      0.936670    0.528522    0.851371    0.000000    0.692135    0.000000   \n",
       "50%      0.998032    0.694740    0.923433    0.001324    0.795315    0.001555   \n",
       "75%      1.000000    0.855057    0.974723    0.036396    0.895478    0.051271   \n",
       "max      1.000000    1.000000    0.999642  112.634783    0.983064  112.634783   \n",
       "\n",
       "              NRM        JACC        DICE  \n",
       "count  917.000000  917.000000  917.000000  \n",
       "mean     0.308707    0.616618    0.729908  \n",
       "std      2.041735    0.235651    0.231649  \n",
       "min      0.016793    0.000000    0.000000  \n",
       "25%      0.101162    0.496051    0.663147  \n",
       "50%      0.186433    0.646806    0.785528  \n",
       "75%      0.269318    0.800927    0.889461  \n",
       "max     56.317391    0.966693    0.983064  "
      ]
     },
     "execution_count": 3,
     "metadata": {},
     "output_type": "execute_result"
    }
   ],
   "source": [
    "datos.describe()"
   ]
  },
  {
   "attachments": {},
   "cell_type": "markdown",
   "metadata": {},
   "source": [
    "# Etiquetado de cada célula según las distintas nomeclaturas"
   ]
  },
  {
   "cell_type": "code",
   "execution_count": 4,
   "metadata": {},
   "outputs": [],
   "source": [
    "#2 Clases(normal,Anormal)\n",
    "binario = []\n",
    "for ind, ele in enumerate(datos['CLASE']):\n",
    "    if ele == 1 or ele == 2 or ele == 3:\n",
    "        binario.append('1_NORMAL')\n",
    "    if ele == 4 or ele == 5 or ele == 6 or ele == 7:\n",
    "        binario.append('2_ANORMAL')\n",
    "datos['BIN'] = binario\n",
    "\n",
    "# tres clases,  Corriente citologíca\n",
    "#normal, lsil,hsil\n",
    "cytology = []\n",
    "for ind, ele in enumerate(datos['CLASE']):\n",
    "    if ele == 1 or ele == 2 or ele == 3:\n",
    "         cytology.append('1_NORMAL')\n",
    "    if ele == 4:\n",
    "        cytology.append('2_LSIL')\n",
    "    if ele == 5 or ele == 6 or ele == 7:\n",
    "        cytology.append('3_HSIL')\n",
    "datos['CYT'] = cytology\n",
    "\n",
    "\n",
    "# cuatro  clases, corriente Histológica\n",
    "#normal, CIN1,CIN2,CIN3\n",
    "cytology = []\n",
    "for ind, ele in enumerate(datos['CLASE']):\n",
    "    if ele == 1 or ele == 2 or ele == 3:\n",
    "         cytology.append('1_NORMAL')\n",
    "    if ele == 4:\n",
    "        cytology.append('2_CIN1')\n",
    "    if ele == 5:\n",
    "        cytology.append('3_CIN2')\n",
    "    if ele == 6 or ele == 7:\n",
    "        cytology.append('4_CIN3')\n",
    "datos['HIST'] = cytology"
   ]
  },
  {
   "cell_type": "code",
   "execution_count": 5,
   "metadata": {},
   "outputs": [],
   "source": [
    "lista = datos['DICE']\n",
    "for i,e  in enumerate (lista):\n",
    "    if e == 0.9502040816:\n",
    "        print(\"Se encontró el valor\",e,\"en la columna\", i)\n",
    "        break"
   ]
  },
  {
   "cell_type": "code",
   "execution_count": 31,
   "metadata": {},
   "outputs": [
    {
     "name": "stdout",
     "output_type": "stream",
     "text": [
      "0.901\n"
     ]
    }
   ],
   "source": [
    "puntaje = datos[datos['CLASE'] == 4]\n",
    "puntaje = puntaje['P'].mean()\n",
    "print(np.round(puntaje,decimals=3))\n"
   ]
  },
  {
   "cell_type": "code",
   "execution_count": 36,
   "metadata": {},
   "outputs": [
    {
     "name": "stdout",
     "output_type": "stream",
     "text": [
      "0.656\n"
     ]
    }
   ],
   "source": [
    "puntaje = datos['R'].mean()\n",
    "print(np.round(puntaje,decimals=3))"
   ]
  },
  {
   "attachments": {},
   "cell_type": "markdown",
   "metadata": {},
   "source": [
    "# ANALISIS DE TENDENCIA CENTRAL"
   ]
  },
  {
   "cell_type": "code",
   "execution_count": 6,
   "metadata": {},
   "outputs": [
    {
     "data": {
      "text/plain": [
       "(0.0, 1.0)"
      ]
     },
     "execution_count": 6,
     "metadata": {},
     "output_type": "execute_result"
    },
    {
     "data": {
      "image/png": "[encoded data removed]",
      "text/plain": [
       "<Figure size 686x294 with 1 Axes>"
      ]
     },
     "metadata": {},
     "output_type": "display_data"
    }
   ],
   "source": [
    "plt.figure(figsize=(7,3),dpi=98)\n",
    "sns.set(style='whitegrid')\n",
    "sns.boxplot(x=\"CLASE\",y=\"DICE\",data=datos)\n",
    "plt.title('DIAGRAMA DE CAJAS')\n",
    "plt.ylim((0,1))"
   ]
  },
  {
   "cell_type": "code",
   "execution_count": 7,
   "metadata": {},
   "outputs": [
    {
     "data": {
      "text/plain": [
       "<seaborn.axisgrid.FacetGrid at 0x238b5aa7100>"
      ]
     },
     "execution_count": 7,
     "metadata": {},
     "output_type": "execute_result"
    },
    {
     "data": {
      "image/png": "[encoded data removed]",
      "text/plain": [
       "<Figure size 500x500 with 1 Axes>"
      ]
     },
     "metadata": {},
     "output_type": "display_data"
    }
   ],
   "source": [
    "sns.catplot(x='CLASE',y='DICE',data=datos,kind='violin')"
   ]
  },
  {
   "cell_type": "code",
   "execution_count": 8,
   "metadata": {},
   "outputs": [
    {
     "data": {
      "text/plain": [
       "(0.0, 1.0)"
      ]
     },
     "execution_count": 8,
     "metadata": {},
     "output_type": "execute_result"
    },
    {
     "data": {
      "image/png": "[encoded data removed]",
      "text/plain": [
       "<Figure size 686x294 with 1 Axes>"
      ]
     },
     "metadata": {},
     "output_type": "display_data"
    }
   ],
   "source": [
    "plt.figure(figsize=(7,3),dpi=98)\n",
    "sns.set(style='whitegrid')\n",
    "sns.boxplot(x=\"BIN\",y=\"DICE\",data=datos)\n",
    "plt.title('DIAGRAMA DE CAJAS')\n",
    "plt.ylim((0,1))"
   ]
  }
 ],
 "metadata": {
  "kernelspec": {
   "display_name": "Python 3",
   "language": "python",
   "name": "python3"
  },
  "language_info": {
   "codemirror_mode": {
    "name": "ipython",
    "version": 3
   },
   "file_extension": ".py",
   "mimetype": "text/x-python",
   "name": "python",
   "nbconvert_exporter": "python",
   "pygments_lexer": "ipython3",
   "version": "3.10.4"
  },
  "orig_nbformat": 4,
  "vscode": {
   "interpreter": {
    "hash": "26de051ba29f2982a8de78e945f0abaf191376122a1563185a90213a26c5da77"
   }
  }
 },
 "nbformat": 4,
 "nbformat_minor": 2
}
